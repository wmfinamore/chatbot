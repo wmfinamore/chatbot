{
 "cells": [
  {
   "cell_type": "code",
   "execution_count": 1,
   "id": "f90ee426-9208-44ab-941e-79a9a5a141d6",
   "metadata": {},
   "outputs": [],
   "source": [
    "import nltk\n",
    "from nltk.chat.util import Chat, reflections"
   ]
  },
  {
   "cell_type": "code",
   "execution_count": 2,
   "id": "672006a5-16c8-4877-a61d-7f41184f5514",
   "metadata": {},
   "outputs": [
    {
     "data": {
      "text/plain": [
       "{'i am': 'you are',\n",
       " 'i was': 'you were',\n",
       " 'i': 'you',\n",
       " \"i'm\": 'you are',\n",
       " \"i'd\": 'you would',\n",
       " \"i've\": 'you have',\n",
       " \"i'll\": 'you will',\n",
       " 'my': 'your',\n",
       " 'you are': 'I am',\n",
       " 'you were': 'I was',\n",
       " \"you've\": 'I have',\n",
       " \"you'll\": 'I will',\n",
       " 'your': 'my',\n",
       " 'yours': 'mine',\n",
       " 'you': 'me',\n",
       " 'me': 'you'}"
      ]
     },
     "execution_count": 2,
     "metadata": {},
     "output_type": "execute_result"
    }
   ],
   "source": [
    "reflections"
   ]
  },
  {
   "cell_type": "code",
   "execution_count": 3,
   "id": "7a2657c7-9ca3-4470-9076-a112e8e8e082",
   "metadata": {},
   "outputs": [],
   "source": [
    "reflections_pt = {\n",
    "    'eu': 'você',\n",
    "    'eu sou': 'você é',\n",
    "    'eu era': 'você era',\n",
    "    'eu iria': 'você iria',\n",
    "    'eu irei': 'você irá',\n",
    "    'meu': 'seu',\n",
    "    'você é': 'eu sou',\n",
    "    'você era': 'eu era',\n",
    "    'você iria': 'eu iria',\n",
    "    'você irá': 'eu irei',\n",
    "    'seu': 'meu',\n",
    "}"
   ]
  },
  {
   "cell_type": "code",
   "execution_count": 16,
   "id": "3809f0cf-2a6f-42d7-be2a-171b5c388487",
   "metadata": {},
   "outputs": [],
   "source": [
    "pares = [\n",
    "    [\n",
    "        r'oi|olá|opa',\n",
    "        ['olá', 'como vai?', 'tudo bem?']\n",
    "    ],\n",
    "    [\n",
    "        r'quit',\n",
    "        ['até breve', 'conte sempre comigo', 'tchau tchau']\n",
    "    ],\n",
    "    [\n",
    "        r'Qual é o seu nome?',\n",
    "        ['Meu nome é Baltazar e eu sou um chatbot']\n",
    "    ],\n",
    "    [\n",
    "        r'(.*) idade',\n",
    "        ['Não tenho idade pois sou um chatbot']\n",
    "    ],\n",
    "     [\n",
    "        r'meu nome é (.*)',\n",
    "        ['Olá %1, como você está hoje?']\n",
    "    ],\n",
    "     [\n",
    "        r'eu trabalho na empresa (.*), que fica localizada em (.*)',\n",
    "        ['Conheço a empresa %1 que fica em %2']\n",
    "    ]\n",
    "]\n"
   ]
  },
  {
   "cell_type": "code",
   "execution_count": null,
   "id": "43ff28cc-e5f6-4cea-8dcb-03b7a778357a",
   "metadata": {},
   "outputs": [
    {
     "name": "stdout",
     "output_type": "stream",
     "text": [
      "Olá, sou o chat!\n"
     ]
    },
    {
     "name": "stdin",
     "output_type": "stream",
     "text": [
      "> eu trabalho na empresa Prefeitura, que fica localizada Éden\n"
     ]
    },
    {
     "name": "stdout",
     "output_type": "stream",
     "text": [
      "None\n"
     ]
    },
    {
     "name": "stdin",
     "output_type": "stream",
     "text": [
      "> eu trabalho na empresa Prefeitura, que fica localizada em Bairro\n"
     ]
    },
    {
     "name": "stdout",
     "output_type": "stream",
     "text": [
      "Conheço a empresa prefeitura que fica em bairro\n"
     ]
    }
   ],
   "source": [
    "print('Olá, sou o chat!')\n",
    "chat = Chat(pares, reflections_pt)\n",
    "chat.converse()"
   ]
  },
  {
   "cell_type": "code",
   "execution_count": null,
   "id": "982fac81-6241-4974-9126-d0d7ad2a7f11",
   "metadata": {},
   "outputs": [],
   "source": []
  }
 ],
 "metadata": {
  "kernelspec": {
   "display_name": "Python 3 (ipykernel)",
   "language": "python",
   "name": "python3"
  },
  "language_info": {
   "codemirror_mode": {
    "name": "ipython",
    "version": 3
   },
   "file_extension": ".py",
   "mimetype": "text/x-python",
   "name": "python",
   "nbconvert_exporter": "python",
   "pygments_lexer": "ipython3",
   "version": "3.10.0"
  }
 },
 "nbformat": 4,
 "nbformat_minor": 5
}
